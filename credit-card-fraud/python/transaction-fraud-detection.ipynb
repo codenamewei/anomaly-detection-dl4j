{
 "cells": [
  {
   "cell_type": "markdown",
   "metadata": {},
   "source": [
    "# Credit Card Transaction Fraud Detection\n",
    "\n",
    "<img src=\"metadata/credit-card-fraud.jpg\" width=\"800\" height=\"800\">\n",
    "\n",
    "### References\n",
    "https://medium.com/@curiousily/credit-card-fraud-detection-using-autoencoders-in-keras-tensorflow-for-hackers-part-vii-20e0c85301bd\n"
   ]
  },
  {
   "cell_type": "code",
   "execution_count": 1,
   "metadata": {},
   "outputs": [
    {
     "name": "stderr",
     "output_type": "stream",
     "text": [
      "Using TensorFlow backend.\n"
     ]
    }
   ],
   "source": [
    "\n",
    "%matplotlib inline\n",
    "\n",
    "import pandas as pd\n",
    "import matplotlib.pyplot as plt\n",
    "from sklearn.preprocessing import StandardScaler\n",
    "from sklearn.model_selection import train_test_split\n",
    "\n",
    "from keras.callbacks import ModelCheckpoint, TensorBoard\n",
    "\n",
    "from keras.models import Sequential\n",
    "from keras.layers import Dense\n",
    "\n",
    "import seaborn as sns\n",
    "\n",
    "import numpy as np"
   ]
  },
  {
   "cell_type": "markdown",
   "metadata": {},
   "source": [
    "# Set Randomization Seed"
   ]
  },
  {
   "cell_type": "code",
   "execution_count": 2,
   "metadata": {},
   "outputs": [],
   "source": [
    "SEED = 123\n",
    "\n",
    "from numpy.random import seed\n",
    "seed(SEED)\n",
    "from tensorflow import set_random_seed\n",
    "set_random_seed(SEED)"
   ]
  },
  {
   "cell_type": "markdown",
   "metadata": {},
   "source": [
    "# Load Data\n",
    "\n",
    "Data download from https://www.kaggle.com/mlg-ulb/creditcardfraud\n",
    "with 492 frauds out of 284,807 transactions\n",
    "over a period of two days \n",
    "\n",
    "It contains only numerical input variables which are the result of a PCA transformation."
   ]
  },
  {
   "cell_type": "code",
   "execution_count": 3,
   "metadata": {},
   "outputs": [
    {
     "data": {
      "text/html": [
       "<div>\n",
       "<style scoped>\n",
       "    .dataframe tbody tr th:only-of-type {\n",
       "        vertical-align: middle;\n",
       "    }\n",
       "\n",
       "    .dataframe tbody tr th {\n",
       "        vertical-align: top;\n",
       "    }\n",
       "\n",
       "    .dataframe thead th {\n",
       "        text-align: right;\n",
       "    }\n",
       "</style>\n",
       "<table border=\"1\" class=\"dataframe\">\n",
       "  <thead>\n",
       "    <tr style=\"text-align: right;\">\n",
       "      <th></th>\n",
       "      <th>Time</th>\n",
       "      <th>V1</th>\n",
       "      <th>V2</th>\n",
       "      <th>V3</th>\n",
       "      <th>V4</th>\n",
       "      <th>V5</th>\n",
       "      <th>V6</th>\n",
       "      <th>V7</th>\n",
       "      <th>V8</th>\n",
       "      <th>V9</th>\n",
       "      <th>...</th>\n",
       "      <th>V21</th>\n",
       "      <th>V22</th>\n",
       "      <th>V23</th>\n",
       "      <th>V24</th>\n",
       "      <th>V25</th>\n",
       "      <th>V26</th>\n",
       "      <th>V27</th>\n",
       "      <th>V28</th>\n",
       "      <th>Amount</th>\n",
       "      <th>Class</th>\n",
       "    </tr>\n",
       "  </thead>\n",
       "  <tbody>\n",
       "    <tr>\n",
       "      <th>73129</th>\n",
       "      <td>54992.0</td>\n",
       "      <td>-0.623235</td>\n",
       "      <td>1.097949</td>\n",
       "      <td>0.748810</td>\n",
       "      <td>0.763394</td>\n",
       "      <td>-0.179458</td>\n",
       "      <td>-0.258895</td>\n",
       "      <td>0.430106</td>\n",
       "      <td>0.466788</td>\n",
       "      <td>-0.935937</td>\n",
       "      <td>...</td>\n",
       "      <td>0.243136</td>\n",
       "      <td>0.468435</td>\n",
       "      <td>-0.055127</td>\n",
       "      <td>-0.012280</td>\n",
       "      <td>-0.236499</td>\n",
       "      <td>-0.327825</td>\n",
       "      <td>0.023302</td>\n",
       "      <td>0.089418</td>\n",
       "      <td>50.00</td>\n",
       "      <td>0</td>\n",
       "    </tr>\n",
       "    <tr>\n",
       "      <th>229597</th>\n",
       "      <td>145983.0</td>\n",
       "      <td>2.155748</td>\n",
       "      <td>-0.998223</td>\n",
       "      <td>-1.158978</td>\n",
       "      <td>-0.992298</td>\n",
       "      <td>-0.484600</td>\n",
       "      <td>-0.308857</td>\n",
       "      <td>-0.677077</td>\n",
       "      <td>-0.193517</td>\n",
       "      <td>-0.083026</td>\n",
       "      <td>...</td>\n",
       "      <td>0.174775</td>\n",
       "      <td>0.519005</td>\n",
       "      <td>0.003460</td>\n",
       "      <td>-1.017962</td>\n",
       "      <td>-0.009465</td>\n",
       "      <td>-0.118435</td>\n",
       "      <td>-0.006350</td>\n",
       "      <td>-0.053375</td>\n",
       "      <td>58.00</td>\n",
       "      <td>0</td>\n",
       "    </tr>\n",
       "    <tr>\n",
       "      <th>220218</th>\n",
       "      <td>142073.0</td>\n",
       "      <td>1.614893</td>\n",
       "      <td>-0.194953</td>\n",
       "      <td>-2.050402</td>\n",
       "      <td>1.469645</td>\n",
       "      <td>0.540352</td>\n",
       "      <td>-0.665439</td>\n",
       "      <td>0.677713</td>\n",
       "      <td>-0.246032</td>\n",
       "      <td>-0.079937</td>\n",
       "      <td>...</td>\n",
       "      <td>-0.029061</td>\n",
       "      <td>-0.369654</td>\n",
       "      <td>-0.071308</td>\n",
       "      <td>-0.520915</td>\n",
       "      <td>0.091351</td>\n",
       "      <td>-0.749140</td>\n",
       "      <td>-0.023202</td>\n",
       "      <td>-0.003519</td>\n",
       "      <td>198.00</td>\n",
       "      <td>0</td>\n",
       "    </tr>\n",
       "    <tr>\n",
       "      <th>198374</th>\n",
       "      <td>132462.0</td>\n",
       "      <td>1.908756</td>\n",
       "      <td>-2.517443</td>\n",
       "      <td>0.277391</td>\n",
       "      <td>-1.466555</td>\n",
       "      <td>-1.521858</td>\n",
       "      <td>3.005920</td>\n",
       "      <td>-2.800770</td>\n",
       "      <td>0.981435</td>\n",
       "      <td>0.349534</td>\n",
       "      <td>...</td>\n",
       "      <td>0.050867</td>\n",
       "      <td>0.984547</td>\n",
       "      <td>0.163995</td>\n",
       "      <td>-0.905736</td>\n",
       "      <td>-0.511626</td>\n",
       "      <td>0.097492</td>\n",
       "      <td>0.147579</td>\n",
       "      <td>-0.036551</td>\n",
       "      <td>82.00</td>\n",
       "      <td>0</td>\n",
       "    </tr>\n",
       "    <tr>\n",
       "      <th>167980</th>\n",
       "      <td>119001.0</td>\n",
       "      <td>2.120853</td>\n",
       "      <td>-1.048240</td>\n",
       "      <td>-1.895990</td>\n",
       "      <td>-1.236063</td>\n",
       "      <td>-0.038722</td>\n",
       "      <td>-0.274832</td>\n",
       "      <td>-0.388942</td>\n",
       "      <td>-0.196979</td>\n",
       "      <td>-0.649028</td>\n",
       "      <td>...</td>\n",
       "      <td>0.455959</td>\n",
       "      <td>1.125977</td>\n",
       "      <td>-0.263681</td>\n",
       "      <td>-1.322770</td>\n",
       "      <td>0.308495</td>\n",
       "      <td>0.132642</td>\n",
       "      <td>-0.057106</td>\n",
       "      <td>-0.074845</td>\n",
       "      <td>93.75</td>\n",
       "      <td>0</td>\n",
       "    </tr>\n",
       "    <tr>\n",
       "      <th>98465</th>\n",
       "      <td>66672.0</td>\n",
       "      <td>-0.634719</td>\n",
       "      <td>0.592442</td>\n",
       "      <td>0.383238</td>\n",
       "      <td>0.570786</td>\n",
       "      <td>1.616970</td>\n",
       "      <td>4.631747</td>\n",
       "      <td>-0.789232</td>\n",
       "      <td>1.646998</td>\n",
       "      <td>0.251358</td>\n",
       "      <td>...</td>\n",
       "      <td>-0.333598</td>\n",
       "      <td>-0.807647</td>\n",
       "      <td>0.013052</td>\n",
       "      <td>1.000277</td>\n",
       "      <td>-0.131596</td>\n",
       "      <td>-0.449776</td>\n",
       "      <td>0.093359</td>\n",
       "      <td>0.090260</td>\n",
       "      <td>24.63</td>\n",
       "      <td>0</td>\n",
       "    </tr>\n",
       "    <tr>\n",
       "      <th>200436</th>\n",
       "      <td>133435.0</td>\n",
       "      <td>-3.089446</td>\n",
       "      <td>-2.515804</td>\n",
       "      <td>1.205023</td>\n",
       "      <td>-1.767681</td>\n",
       "      <td>0.594350</td>\n",
       "      <td>-1.130869</td>\n",
       "      <td>-1.008283</td>\n",
       "      <td>0.744072</td>\n",
       "      <td>-1.272679</td>\n",
       "      <td>...</td>\n",
       "      <td>0.384737</td>\n",
       "      <td>-0.229528</td>\n",
       "      <td>0.080999</td>\n",
       "      <td>-0.416668</td>\n",
       "      <td>0.496685</td>\n",
       "      <td>-0.402766</td>\n",
       "      <td>0.131159</td>\n",
       "      <td>-0.326898</td>\n",
       "      <td>167.56</td>\n",
       "      <td>0</td>\n",
       "    </tr>\n",
       "    <tr>\n",
       "      <th>113404</th>\n",
       "      <td>73053.0</td>\n",
       "      <td>-2.274617</td>\n",
       "      <td>-2.735528</td>\n",
       "      <td>1.119531</td>\n",
       "      <td>-0.923586</td>\n",
       "      <td>1.489864</td>\n",
       "      <td>-2.101549</td>\n",
       "      <td>-0.772237</td>\n",
       "      <td>0.150989</td>\n",
       "      <td>-1.269018</td>\n",
       "      <td>...</td>\n",
       "      <td>-0.027092</td>\n",
       "      <td>-0.592477</td>\n",
       "      <td>0.639344</td>\n",
       "      <td>0.305030</td>\n",
       "      <td>-0.069783</td>\n",
       "      <td>0.881338</td>\n",
       "      <td>-0.118591</td>\n",
       "      <td>0.154070</td>\n",
       "      <td>144.99</td>\n",
       "      <td>0</td>\n",
       "    </tr>\n",
       "    <tr>\n",
       "      <th>149063</th>\n",
       "      <td>90536.0</td>\n",
       "      <td>-0.114786</td>\n",
       "      <td>1.091362</td>\n",
       "      <td>-0.507040</td>\n",
       "      <td>-0.549498</td>\n",
       "      <td>0.964686</td>\n",
       "      <td>-0.385480</td>\n",
       "      <td>0.606305</td>\n",
       "      <td>0.103705</td>\n",
       "      <td>1.509189</td>\n",
       "      <td>...</td>\n",
       "      <td>-0.515381</td>\n",
       "      <td>-1.156256</td>\n",
       "      <td>0.090066</td>\n",
       "      <td>0.125590</td>\n",
       "      <td>-0.457510</td>\n",
       "      <td>0.085614</td>\n",
       "      <td>0.288228</td>\n",
       "      <td>0.119023</td>\n",
       "      <td>3.96</td>\n",
       "      <td>0</td>\n",
       "    </tr>\n",
       "    <tr>\n",
       "      <th>41420</th>\n",
       "      <td>40674.0</td>\n",
       "      <td>-0.246513</td>\n",
       "      <td>0.861245</td>\n",
       "      <td>1.890563</td>\n",
       "      <td>1.373825</td>\n",
       "      <td>0.172463</td>\n",
       "      <td>0.001762</td>\n",
       "      <td>0.606328</td>\n",
       "      <td>-0.124765</td>\n",
       "      <td>-0.510219</td>\n",
       "      <td>...</td>\n",
       "      <td>0.027795</td>\n",
       "      <td>0.298056</td>\n",
       "      <td>-0.186672</td>\n",
       "      <td>0.067153</td>\n",
       "      <td>-0.168904</td>\n",
       "      <td>-0.185869</td>\n",
       "      <td>-0.004944</td>\n",
       "      <td>-0.102743</td>\n",
       "      <td>11.01</td>\n",
       "      <td>0</td>\n",
       "    </tr>\n",
       "  </tbody>\n",
       "</table>\n",
       "<p>10 rows × 31 columns</p>\n",
       "</div>"
      ],
      "text/plain": [
       "            Time        V1        V2        V3        V4        V5        V6  \\\n",
       "73129    54992.0 -0.623235  1.097949  0.748810  0.763394 -0.179458 -0.258895   \n",
       "229597  145983.0  2.155748 -0.998223 -1.158978 -0.992298 -0.484600 -0.308857   \n",
       "220218  142073.0  1.614893 -0.194953 -2.050402  1.469645  0.540352 -0.665439   \n",
       "198374  132462.0  1.908756 -2.517443  0.277391 -1.466555 -1.521858  3.005920   \n",
       "167980  119001.0  2.120853 -1.048240 -1.895990 -1.236063 -0.038722 -0.274832   \n",
       "98465    66672.0 -0.634719  0.592442  0.383238  0.570786  1.616970  4.631747   \n",
       "200436  133435.0 -3.089446 -2.515804  1.205023 -1.767681  0.594350 -1.130869   \n",
       "113404   73053.0 -2.274617 -2.735528  1.119531 -0.923586  1.489864 -2.101549   \n",
       "149063   90536.0 -0.114786  1.091362 -0.507040 -0.549498  0.964686 -0.385480   \n",
       "41420    40674.0 -0.246513  0.861245  1.890563  1.373825  0.172463  0.001762   \n",
       "\n",
       "              V7        V8        V9  ...       V21       V22       V23  \\\n",
       "73129   0.430106  0.466788 -0.935937  ...  0.243136  0.468435 -0.055127   \n",
       "229597 -0.677077 -0.193517 -0.083026  ...  0.174775  0.519005  0.003460   \n",
       "220218  0.677713 -0.246032 -0.079937  ... -0.029061 -0.369654 -0.071308   \n",
       "198374 -2.800770  0.981435  0.349534  ...  0.050867  0.984547  0.163995   \n",
       "167980 -0.388942 -0.196979 -0.649028  ...  0.455959  1.125977 -0.263681   \n",
       "98465  -0.789232  1.646998  0.251358  ... -0.333598 -0.807647  0.013052   \n",
       "200436 -1.008283  0.744072 -1.272679  ...  0.384737 -0.229528  0.080999   \n",
       "113404 -0.772237  0.150989 -1.269018  ... -0.027092 -0.592477  0.639344   \n",
       "149063  0.606305  0.103705  1.509189  ... -0.515381 -1.156256  0.090066   \n",
       "41420   0.606328 -0.124765 -0.510219  ...  0.027795  0.298056 -0.186672   \n",
       "\n",
       "             V24       V25       V26       V27       V28  Amount  Class  \n",
       "73129  -0.012280 -0.236499 -0.327825  0.023302  0.089418   50.00      0  \n",
       "229597 -1.017962 -0.009465 -0.118435 -0.006350 -0.053375   58.00      0  \n",
       "220218 -0.520915  0.091351 -0.749140 -0.023202 -0.003519  198.00      0  \n",
       "198374 -0.905736 -0.511626  0.097492  0.147579 -0.036551   82.00      0  \n",
       "167980 -1.322770  0.308495  0.132642 -0.057106 -0.074845   93.75      0  \n",
       "98465   1.000277 -0.131596 -0.449776  0.093359  0.090260   24.63      0  \n",
       "200436 -0.416668  0.496685 -0.402766  0.131159 -0.326898  167.56      0  \n",
       "113404  0.305030 -0.069783  0.881338 -0.118591  0.154070  144.99      0  \n",
       "149063  0.125590 -0.457510  0.085614  0.288228  0.119023    3.96      0  \n",
       "41420   0.067153 -0.168904 -0.185869 -0.004944 -0.102743   11.01      0  \n",
       "\n",
       "[10 rows x 31 columns]"
      ]
     },
     "execution_count": 3,
     "metadata": {},
     "output_type": "execute_result"
    }
   ],
   "source": [
    "df = pd.read_csv('../../data/creditcard.csv')\n",
    "\n",
    "df.sample(n = 10)"
   ]
  },
  {
   "cell_type": "markdown",
   "metadata": {},
   "source": [
    "# Plot the labels distribution"
   ]
  },
  {
   "cell_type": "code",
   "execution_count": 4,
   "metadata": {},
   "outputs": [
    {
     "name": "stdout",
     "output_type": "stream",
     "text": [
      "0    284315\n",
      "1       492\n",
      "Name: Class, dtype: int64\n"
     ]
    },
    {
     "data": {
      "image/png": "[encoded data removed]",
      "text/plain": [
       "<Figure size 432x288 with 1 Axes>"
      ]
     },
     "metadata": {
      "needs_background": "light"
     },
     "output_type": "display_data"
    }
   ],
   "source": [
    "labels_dist = pd.value_counts(df['Class'], sort = True)\n",
    "\n",
    "labels_dist.plot(kind = 'bar', rot = 0)\n",
    "plt.title('Transaction Class Distribution')\n",
    "plt.xticks(range(2), [\"Normal\", \"Fraud\"])\n",
    "plt.xlabel('Class')\n",
    "plt.ylabel('Frequency')\n",
    "\n",
    "\n",
    "print(labels_dist)"
   ]
  },
  {
   "cell_type": "markdown",
   "metadata": {},
   "source": [
    "# Plot transactions amount"
   ]
  },
  {
   "cell_type": "code",
   "execution_count": 5,
   "metadata": {},
   "outputs": [
    {
     "name": "stdout",
     "output_type": "stream",
     "text": [
      "count     492.000000\n",
      "mean      122.211321\n",
      "std       256.683288\n",
      "min         0.000000\n",
      "25%         1.000000\n",
      "50%         9.250000\n",
      "75%       105.890000\n",
      "max      2125.870000\n",
      "Name: Amount, dtype: float64\n",
      "\n",
      "\n",
      "count    284315.000000\n",
      "mean         88.291022\n",
      "std         250.105092\n",
      "min           0.000000\n",
      "25%           5.650000\n",
      "50%          22.000000\n",
      "75%          77.050000\n",
      "max       25691.160000\n",
      "Name: Amount, dtype: float64\n"
     ]
    }
   ],
   "source": [
    "frauds = df[df.Class == 1]\n",
    "normal = df[df.Class == 0]\n",
    "\n",
    "\n",
    "print(frauds['Amount'].describe()) #frauds.Amount.describe()\n",
    "print('\\n')\n",
    "print(normal['Amount'].describe())"
   ]
  },
  {
   "cell_type": "code",
   "execution_count": 6,
   "metadata": {},
   "outputs": [
    {
     "data": {
      "image/png": "[encoded data removed]",
      "text/plain": [
       "<Figure size 432x288 with 2 Axes>"
      ]
     },
     "metadata": {
      "needs_background": "light"
     },
     "output_type": "display_data"
    }
   ],
   "source": [
    "wholeFrame, (subFrame1, subFrame2) = plt.subplots(2, 1, sharex = True)\n",
    "\n",
    "wholeFrame.suptitle('Amount per transaction by class')\n",
    "\n",
    "BIN = 50\n",
    "\n",
    "subFrame1.hist(frauds['Amount'], bins = BIN)\n",
    "subFrame2.hist(normal['Amount'], bins = BIN)\n",
    "\n",
    "subFrame1.set_title('Fraud')\n",
    "subFrame2.set_title('Normal')\n",
    "\n",
    "plt.xlabel('Amount ($)')\n",
    "plt.ylabel('Number of Transactions')\n",
    "\n",
    "plt.xlim(0, 20000)\n",
    "plt.yscale('log')"
   ]
  },
  {
   "cell_type": "code",
   "execution_count": 7,
   "metadata": {},
   "outputs": [
    {
     "data": {
      "text/plain": [
       "Text(0.5, 1.0, 'Time vs Amount')"
      ]
     },
     "execution_count": 7,
     "metadata": {},
     "output_type": "execute_result"
    },
    {
     "data": {
      "image/png": "[encoded data removed]",
      "text/plain": [
       "<Figure size 432x288 with 1 Axes>"
      ]
     },
     "metadata": {
      "needs_background": "light"
     },
     "output_type": "display_data"
    }
   ],
   "source": [
    "plt.scatter(frauds['Time'], frauds['Amount'])\n",
    "plt.xlabel('Time')\n",
    "plt.ylabel('Amount')\n",
    "plt.title('Time vs Amount')\n",
    "\n",
    "#No visibly patterns of difference of amount transactions with time changes"
   ]
  },
  {
   "cell_type": "markdown",
   "metadata": {},
   "source": [
    "# Remove unecessary descriptors / features"
   ]
  },
  {
   "cell_type": "code",
   "execution_count": 8,
   "metadata": {},
   "outputs": [
    {
     "data": {
      "text/html": [
       "<div>\n",
       "<style scoped>\n",
       "    .dataframe tbody tr th:only-of-type {\n",
       "        vertical-align: middle;\n",
       "    }\n",
       "\n",
       "    .dataframe tbody tr th {\n",
       "        vertical-align: top;\n",
       "    }\n",
       "\n",
       "    .dataframe thead th {\n",
       "        text-align: right;\n",
       "    }\n",
       "</style>\n",
       "<table border=\"1\" class=\"dataframe\">\n",
       "  <thead>\n",
       "    <tr style=\"text-align: right;\">\n",
       "      <th></th>\n",
       "      <th>V1</th>\n",
       "      <th>V2</th>\n",
       "      <th>V3</th>\n",
       "      <th>V4</th>\n",
       "      <th>V5</th>\n",
       "      <th>V6</th>\n",
       "      <th>V7</th>\n",
       "      <th>V8</th>\n",
       "      <th>V9</th>\n",
       "      <th>V10</th>\n",
       "      <th>...</th>\n",
       "      <th>V21</th>\n",
       "      <th>V22</th>\n",
       "      <th>V23</th>\n",
       "      <th>V24</th>\n",
       "      <th>V25</th>\n",
       "      <th>V26</th>\n",
       "      <th>V27</th>\n",
       "      <th>V28</th>\n",
       "      <th>Amount</th>\n",
       "      <th>Class</th>\n",
       "    </tr>\n",
       "  </thead>\n",
       "  <tbody>\n",
       "    <tr>\n",
       "      <th>0</th>\n",
       "      <td>-1.359807</td>\n",
       "      <td>-0.072781</td>\n",
       "      <td>2.536347</td>\n",
       "      <td>1.378155</td>\n",
       "      <td>-0.338321</td>\n",
       "      <td>0.462388</td>\n",
       "      <td>0.239599</td>\n",
       "      <td>0.098698</td>\n",
       "      <td>0.363787</td>\n",
       "      <td>0.090794</td>\n",
       "      <td>...</td>\n",
       "      <td>-0.018307</td>\n",
       "      <td>0.277838</td>\n",
       "      <td>-0.110474</td>\n",
       "      <td>0.066928</td>\n",
       "      <td>0.128539</td>\n",
       "      <td>-0.189115</td>\n",
       "      <td>0.133558</td>\n",
       "      <td>-0.021053</td>\n",
       "      <td>149.62</td>\n",
       "      <td>0</td>\n",
       "    </tr>\n",
       "    <tr>\n",
       "      <th>1</th>\n",
       "      <td>1.191857</td>\n",
       "      <td>0.266151</td>\n",
       "      <td>0.166480</td>\n",
       "      <td>0.448154</td>\n",
       "      <td>0.060018</td>\n",
       "      <td>-0.082361</td>\n",
       "      <td>-0.078803</td>\n",
       "      <td>0.085102</td>\n",
       "      <td>-0.255425</td>\n",
       "      <td>-0.166974</td>\n",
       "      <td>...</td>\n",
       "      <td>-0.225775</td>\n",
       "      <td>-0.638672</td>\n",
       "      <td>0.101288</td>\n",
       "      <td>-0.339846</td>\n",
       "      <td>0.167170</td>\n",
       "      <td>0.125895</td>\n",
       "      <td>-0.008983</td>\n",
       "      <td>0.014724</td>\n",
       "      <td>2.69</td>\n",
       "      <td>0</td>\n",
       "    </tr>\n",
       "    <tr>\n",
       "      <th>2</th>\n",
       "      <td>-1.358354</td>\n",
       "      <td>-1.340163</td>\n",
       "      <td>1.773209</td>\n",
       "      <td>0.379780</td>\n",
       "      <td>-0.503198</td>\n",
       "      <td>1.800499</td>\n",
       "      <td>0.791461</td>\n",
       "      <td>0.247676</td>\n",
       "      <td>-1.514654</td>\n",
       "      <td>0.207643</td>\n",
       "      <td>...</td>\n",
       "      <td>0.247998</td>\n",
       "      <td>0.771679</td>\n",
       "      <td>0.909412</td>\n",
       "      <td>-0.689281</td>\n",
       "      <td>-0.327642</td>\n",
       "      <td>-0.139097</td>\n",
       "      <td>-0.055353</td>\n",
       "      <td>-0.059752</td>\n",
       "      <td>378.66</td>\n",
       "      <td>0</td>\n",
       "    </tr>\n",
       "    <tr>\n",
       "      <th>3</th>\n",
       "      <td>-0.966272</td>\n",
       "      <td>-0.185226</td>\n",
       "      <td>1.792993</td>\n",
       "      <td>-0.863291</td>\n",
       "      <td>-0.010309</td>\n",
       "      <td>1.247203</td>\n",
       "      <td>0.237609</td>\n",
       "      <td>0.377436</td>\n",
       "      <td>-1.387024</td>\n",
       "      <td>-0.054952</td>\n",
       "      <td>...</td>\n",
       "      <td>-0.108300</td>\n",
       "      <td>0.005274</td>\n",
       "      <td>-0.190321</td>\n",
       "      <td>-1.175575</td>\n",
       "      <td>0.647376</td>\n",
       "      <td>-0.221929</td>\n",
       "      <td>0.062723</td>\n",
       "      <td>0.061458</td>\n",
       "      <td>123.50</td>\n",
       "      <td>0</td>\n",
       "    </tr>\n",
       "    <tr>\n",
       "      <th>4</th>\n",
       "      <td>-1.158233</td>\n",
       "      <td>0.877737</td>\n",
       "      <td>1.548718</td>\n",
       "      <td>0.403034</td>\n",
       "      <td>-0.407193</td>\n",
       "      <td>0.095921</td>\n",
       "      <td>0.592941</td>\n",
       "      <td>-0.270533</td>\n",
       "      <td>0.817739</td>\n",
       "      <td>0.753074</td>\n",
       "      <td>...</td>\n",
       "      <td>-0.009431</td>\n",
       "      <td>0.798278</td>\n",
       "      <td>-0.137458</td>\n",
       "      <td>0.141267</td>\n",
       "      <td>-0.206010</td>\n",
       "      <td>0.502292</td>\n",
       "      <td>0.219422</td>\n",
       "      <td>0.215153</td>\n",
       "      <td>69.99</td>\n",
       "      <td>0</td>\n",
       "    </tr>\n",
       "  </tbody>\n",
       "</table>\n",
       "<p>5 rows × 30 columns</p>\n",
       "</div>"
      ],
      "text/plain": [
       "         V1        V2        V3        V4        V5        V6        V7  \\\n",
       "0 -1.359807 -0.072781  2.536347  1.378155 -0.338321  0.462388  0.239599   \n",
       "1  1.191857  0.266151  0.166480  0.448154  0.060018 -0.082361 -0.078803   \n",
       "2 -1.358354 -1.340163  1.773209  0.379780 -0.503198  1.800499  0.791461   \n",
       "3 -0.966272 -0.185226  1.792993 -0.863291 -0.010309  1.247203  0.237609   \n",
       "4 -1.158233  0.877737  1.548718  0.403034 -0.407193  0.095921  0.592941   \n",
       "\n",
       "         V8        V9       V10  ...       V21       V22       V23       V24  \\\n",
       "0  0.098698  0.363787  0.090794  ... -0.018307  0.277838 -0.110474  0.066928   \n",
       "1  0.085102 -0.255425 -0.166974  ... -0.225775 -0.638672  0.101288 -0.339846   \n",
       "2  0.247676 -1.514654  0.207643  ...  0.247998  0.771679  0.909412 -0.689281   \n",
       "3  0.377436 -1.387024 -0.054952  ... -0.108300  0.005274 -0.190321 -1.175575   \n",
       "4 -0.270533  0.817739  0.753074  ... -0.009431  0.798278 -0.137458  0.141267   \n",
       "\n",
       "        V25       V26       V27       V28  Amount  Class  \n",
       "0  0.128539 -0.189115  0.133558 -0.021053  149.62      0  \n",
       "1  0.167170  0.125895 -0.008983  0.014724    2.69      0  \n",
       "2 -0.327642 -0.139097 -0.055353 -0.059752  378.66      0  \n",
       "3  0.647376 -0.221929  0.062723  0.061458  123.50      0  \n",
       "4 -0.206010  0.502292  0.219422  0.215153   69.99      0  \n",
       "\n",
       "[5 rows x 30 columns]"
      ]
     },
     "execution_count": 8,
     "metadata": {},
     "output_type": "execute_result"
    }
   ],
   "source": [
    "df.drop([\"Time\"], axis = 1, inplace = True)\n",
    "\n",
    "df.head(n = 5)"
   ]
  },
  {
   "cell_type": "markdown",
   "metadata": {},
   "source": [
    "# Check for Null and remove duplicates "
   ]
  },
  {
   "cell_type": "code",
   "execution_count": 9,
   "metadata": {},
   "outputs": [],
   "source": [
    "df.drop_duplicates(inplace = True)\n",
    "\n",
    "if  df.isnull().values.any() != False:\n",
    "        df.fillna(0)"
   ]
  },
  {
   "cell_type": "markdown",
   "metadata": {},
   "source": [
    "# Standardize to 0 mean and 1.0 variance for Amount column"
   ]
  },
  {
   "cell_type": "code",
   "execution_count": 10,
   "metadata": {},
   "outputs": [],
   "source": [
    "df['Amount'] = StandardScaler().fit_transform(df['Amount'].values.reshape(-1, 1))"
   ]
  },
  {
   "cell_type": "markdown",
   "metadata": {},
   "source": [
    "# Split Data to Training and Testing Data"
   ]
  },
  {
   "cell_type": "code",
   "execution_count": 11,
   "metadata": {},
   "outputs": [],
   "source": [
    "SPLIT = 0.2\n",
    "training_data, testing_data = train_test_split(df, test_size = SPLIT, random_state = SEED)"
   ]
  },
  {
   "cell_type": "code",
   "execution_count": 12,
   "metadata": {},
   "outputs": [
    {
     "name": "stdout",
     "output_type": "stream",
     "text": [
      "(220148, 29)\n"
     ]
    }
   ],
   "source": [
    "\n",
    "training_data = training_data[training_data.Class == 0]\n",
    "training_data = training_data.drop(['Class'], axis=1)\n",
    "\n",
    "testing_labels = testing_data['Class']\n",
    "testing_data = testing_data.drop(['Class'], axis=1)\n",
    "\n",
    "# change to numpy array\n",
    "training_data = training_data.values\n",
    "testing_data = testing_data.values\n",
    "\n",
    "print(training_data.shape)"
   ]
  },
  {
   "cell_type": "markdown",
   "metadata": {},
   "source": [
    "# Build Autoencoder"
   ]
  },
  {
   "cell_type": "code",
   "execution_count": 13,
   "metadata": {},
   "outputs": [
    {
     "name": "stdout",
     "output_type": "stream",
     "text": [
      "WARNING:tensorflow:From c:\\users\\admin\\.conda\\envs\\kerasenv\\lib\\site-packages\\tensorflow\\python\\framework\\op_def_library.py:263: colocate_with (from tensorflow.python.framework.ops) is deprecated and will be removed in a future version.\n",
      "Instructions for updating:\n",
      "Colocations handled automatically by placer.\n",
      "_________________________________________________________________\n",
      "Layer (type)                 Output Shape              Param #   \n",
      "=================================================================\n",
      "dense_1 (Dense)              (None, 32)                960       \n",
      "_________________________________________________________________\n",
      "dense_2 (Dense)              (None, 16)                528       \n",
      "_________________________________________________________________\n",
      "dense_3 (Dense)              (None, 8)                 136       \n",
      "_________________________________________________________________\n",
      "dense_4 (Dense)              (None, 8)                 72        \n",
      "_________________________________________________________________\n",
      "dense_5 (Dense)              (None, 16)                144       \n",
      "_________________________________________________________________\n",
      "dense_6 (Dense)              (None, 32)                544       \n",
      "_________________________________________________________________\n",
      "dense_7 (Dense)              (None, 29)                957       \n",
      "=================================================================\n",
      "Total params: 3,341\n",
      "Trainable params: 3,341\n",
      "Non-trainable params: 0\n",
      "_________________________________________________________________\n"
     ]
    }
   ],
   "source": [
    "feature_dim = 32\n",
    "\n",
    "autoencoder = Sequential()\n",
    "autoencoder.add(Dense(units = feature_dim, input_shape = (training_data.shape[1], ), activation = \"relu\"))#, activity_regularizer=regularizers.l1(10e-5)))\n",
    "autoencoder.add(Dense(units = int(feature_dim / 2), activation = \"relu\"))\n",
    "\n",
    "autoencoder.add(Dense(units = int(feature_dim / 4), activation = \"relu\"))\n",
    "autoencoder.add(Dense(units = int(feature_dim / 4), activation = \"relu\"))\n",
    "\n",
    "autoencoder.add(Dense(units = int(feature_dim / 2), activation = \"relu\"))\n",
    "autoencoder.add(Dense(units = feature_dim, activation = \"relu\"))\n",
    "autoencoder.add(Dense(units = training_data.shape[1], activation = 'linear'))\n",
    "\n",
    "autoencoder.compile(optimizer='adam', \n",
    "                    loss='mean_squared_error', \n",
    "                    metrics=['accuracy'])\n",
    "\n",
    "autoencoder.summary()\n",
    "\n",
    "#add regularizers to prevent overfitting\n",
    "#Reasonable values of lambda [regularization hyperparameter] range between 0 and 0.1.\n",
    "# 0.1, 0.001, 0.0001, etc.\n",
    "\n",
    "#Default 0.01, smaller value less penalty \n",
    "                \n",
    "# use the L1 norm when you want sparsity. weights may be reduced to zero (it can act as feature selection mode)\n",
    "# use the L2 norm when you don't want large activations. weights will be close to zero"
   ]
  },
  {
   "cell_type": "code",
   "execution_count": null,
   "metadata": {},
   "outputs": [],
   "source": [
    "# Rule of Thumb for Training\n",
    "Make sure the total params is less than number of training size \n",
    "\n",
    "If parameters are of half of the training size. Hence, this is an appropriate model to fit\n",
    "\n",
    "Can have a bigger model if add regularization"
   ]
  },
  {
   "cell_type": "markdown",
   "metadata": {},
   "source": [
    "# Build LSTM Autoencoder "
   ]
  },
  {
   "cell_type": "markdown",
   "metadata": {},
   "source": [
    "Given the class imbalance ratio\n",
    "We recommend measuring the accuracy using the Area Under the Precision-Recall Curve (AUPRC). \n",
    "Confusion matrix accuracy is not meaningful for unbalanced classification.\n"
   ]
  },
  {
   "cell_type": "code",
   "execution_count": 14,
   "metadata": {},
   "outputs": [
    {
     "name": "stdout",
     "output_type": "stream",
     "text": [
      "WARNING:tensorflow:From c:\\users\\admin\\.conda\\envs\\kerasenv\\lib\\site-packages\\tensorflow\\python\\ops\\math_ops.py:3066: to_int32 (from tensorflow.python.ops.math_ops) is deprecated and will be removed in a future version.\n",
      "Instructions for updating:\n",
      "Use tf.cast instead.\n"
     ]
    }
   ],
   "source": [
    "\n",
    "EPOCH = 100\n",
    "BATCH_SIZE = 128\n",
    "\n",
    "checkpointer = ModelCheckpoint(filepath=\"model.h5\",\n",
    "                               verbose = 0,\n",
    "                               save_best_only=True)\n",
    "\n",
    "tensorboard = TensorBoard(log_dir='./logs',\n",
    "                          histogram_freq=0,\n",
    "                          write_graph=True,\n",
    "                          write_images=True)\n",
    "\n",
    "history = autoencoder.fit(training_data, training_data, \n",
    "                          epochs = EPOCH, \n",
    "                          batch_size = BATCH_SIZE,\n",
    "                          shuffle = True,\n",
    "                          validation_data = (testing_data, testing_data),\n",
    "                          verbose = 0,\n",
    "                          callbacks=[checkpointer, tensorboard]).history"
   ]
  },
  {
   "cell_type": "code",
   "execution_count": 15,
   "metadata": {},
   "outputs": [
    {
     "data": {
      "text/plain": [
       "<matplotlib.legend.Legend at 0x258ad0095f8>"
      ]
     },
     "execution_count": 15,
     "metadata": {},
     "output_type": "execute_result"
    },
    {
     "data": {
      "image/png": "[encoded data removed]",
      "text/plain": [
       "<Figure size 432x288 with 1 Axes>"
      ]
     },
     "metadata": {
      "needs_background": "light"
     },
     "output_type": "display_data"
    }
   ],
   "source": [
    "plt.plot(history['loss'])\n",
    "plt.plot(history['val_loss'])\n",
    "\n",
    "plt.title('Training Loss')\n",
    "plt.xlabel('Epochs')\n",
    "plt.ylabel('Loss')\n",
    "plt.legend(['Train', 'Test'], loc = 'upper right')"
   ]
  },
  {
   "cell_type": "code",
   "execution_count": 16,
   "metadata": {},
   "outputs": [
    {
     "data": {
      "text/html": [
       "<div>\n",
       "<style scoped>\n",
       "    .dataframe tbody tr th:only-of-type {\n",
       "        vertical-align: middle;\n",
       "    }\n",
       "\n",
       "    .dataframe tbody tr th {\n",
       "        vertical-align: top;\n",
       "    }\n",
       "\n",
       "    .dataframe thead th {\n",
       "        text-align: right;\n",
       "    }\n",
       "</style>\n",
       "<table border=\"1\" class=\"dataframe\">\n",
       "  <thead>\n",
       "    <tr style=\"text-align: right;\">\n",
       "      <th></th>\n",
       "      <th>reconstruction_error</th>\n",
       "      <th>true_class</th>\n",
       "    </tr>\n",
       "  </thead>\n",
       "  <tbody>\n",
       "    <tr>\n",
       "      <th>count</th>\n",
       "      <td>55133.000000</td>\n",
       "      <td>55133.000000</td>\n",
       "    </tr>\n",
       "    <tr>\n",
       "      <th>mean</th>\n",
       "      <td>0.178450</td>\n",
       "      <td>0.001651</td>\n",
       "    </tr>\n",
       "    <tr>\n",
       "      <th>std</th>\n",
       "      <td>0.632654</td>\n",
       "      <td>0.040594</td>\n",
       "    </tr>\n",
       "    <tr>\n",
       "      <th>min</th>\n",
       "      <td>0.006348</td>\n",
       "      <td>0.000000</td>\n",
       "    </tr>\n",
       "    <tr>\n",
       "      <th>25%</th>\n",
       "      <td>0.058627</td>\n",
       "      <td>0.000000</td>\n",
       "    </tr>\n",
       "    <tr>\n",
       "      <th>50%</th>\n",
       "      <td>0.102309</td>\n",
       "      <td>0.000000</td>\n",
       "    </tr>\n",
       "    <tr>\n",
       "      <th>75%</th>\n",
       "      <td>0.188773</td>\n",
       "      <td>0.000000</td>\n",
       "    </tr>\n",
       "    <tr>\n",
       "      <th>max</th>\n",
       "      <td>115.643222</td>\n",
       "      <td>1.000000</td>\n",
       "    </tr>\n",
       "  </tbody>\n",
       "</table>\n",
       "</div>"
      ],
      "text/plain": [
       "       reconstruction_error    true_class\n",
       "count          55133.000000  55133.000000\n",
       "mean               0.178450      0.001651\n",
       "std                0.632654      0.040594\n",
       "min                0.006348      0.000000\n",
       "25%                0.058627      0.000000\n",
       "50%                0.102309      0.000000\n",
       "75%                0.188773      0.000000\n",
       "max              115.643222      1.000000"
      ]
     },
     "execution_count": 16,
     "metadata": {},
     "output_type": "execute_result"
    }
   ],
   "source": [
    "predictions = autoencoder.predict(testing_data)\n",
    "mse = np.mean(np.power(predictions - testing_data, 2), axis=1)\n",
    "error_df = pd.DataFrame({'reconstruction_error': mse,\n",
    "                        'true_class': testing_labels})\n",
    "error_df.describe()\n"
   ]
  },
  {
   "cell_type": "markdown",
   "metadata": {},
   "source": [
    "# Reconstruction Error Without Fraud"
   ]
  },
  {
   "cell_type": "code",
   "execution_count": 17,
   "metadata": {},
   "outputs": [
    {
     "data": {
      "image/png": "[encoded data removed]",
      "text/plain": [
       "<Figure size 432x288 with 1 Axes>"
      ]
     },
     "metadata": {
      "needs_background": "light"
     },
     "output_type": "display_data"
    }
   ],
   "source": [
    "fig = plt.figure()\n",
    "ax = fig.add_subplot(111)\n",
    "normal_error_df = error_df[(error_df['true_class']== 0) & (error_df['reconstruction_error'] < 10)]\n",
    "_ = ax.hist(normal_error_df.reconstruction_error.values, bins=10)"
   ]
  },
  {
   "cell_type": "markdown",
   "metadata": {},
   "source": [
    "# Reconstruction Error With Fraud"
   ]
  },
  {
   "cell_type": "code",
   "execution_count": 18,
   "metadata": {},
   "outputs": [
    {
     "data": {
      "image/png": "[encoded data removed]",
      "text/plain": [
       "<Figure size 432x288 with 1 Axes>"
      ]
     },
     "metadata": {
      "needs_background": "light"
     },
     "output_type": "display_data"
    }
   ],
   "source": [
    "fig = plt.figure()\n",
    "ax = fig.add_subplot(111)\n",
    "fraud_error_df = error_df[error_df['true_class'] == 1]\n",
    "_ = ax.hist(fraud_error_df.reconstruction_error.values, bins=10)"
   ]
  },
  {
   "cell_type": "code",
   "execution_count": 19,
   "metadata": {},
   "outputs": [
    {
     "data": {
      "image/png": "[encoded data removed]",
      "text/plain": [
       "<Figure size 432x288 with 1 Axes>"
      ]
     },
     "metadata": {
      "needs_background": "light"
     },
     "output_type": "display_data"
    }
   ],
   "source": [
    "from sklearn.metrics import (confusion_matrix, precision_recall_curve, auc,\n",
    "                             roc_curve, recall_score, classification_report, f1_score,\n",
    "                             precision_recall_fscore_support)\n",
    "\n",
    "fpr, tpr, thresholds = roc_curve(error_df.true_class, error_df.reconstruction_error)\n",
    "roc_auc = auc(fpr, tpr)\n",
    "\n",
    "plt.title('Receiver Operating Characteristic')\n",
    "plt.plot(fpr, tpr, label='AUC = %0.4f'% roc_auc)\n",
    "plt.legend(loc='lower right')\n",
    "plt.plot([0,1],[0,1],'r--')\n",
    "plt.xlim([-0.001, 1])\n",
    "plt.ylim([0, 1.001])\n",
    "plt.ylabel('True Positive Rate')\n",
    "plt.xlabel('False Positive Rate')\n",
    "plt.show();"
   ]
  },
  {
   "cell_type": "markdown",
   "metadata": {},
   "source": [
    "# Plot the testing data distribution"
   ]
  },
  {
   "cell_type": "code",
   "execution_count": 20,
   "metadata": {},
   "outputs": [
    {
     "data": {
      "text/plain": [
       "0    55042\n",
       "1       91\n",
       "Name: Class, dtype: int64"
      ]
     },
     "execution_count": 20,
     "metadata": {},
     "output_type": "execute_result"
    },
    {
     "data": {
      "image/png": "[encoded data removed]",
      "text/plain": [
       "<Figure size 432x288 with 1 Axes>"
      ]
     },
     "metadata": {
      "needs_background": "light"
     },
     "output_type": "display_data"
    }
   ],
   "source": [
    "labels_dist = pd.value_counts(testing_labels, sort = True)\n",
    "\n",
    "labels_dist.plot(kind = 'bar', rot = 0)\n",
    "plt.title('Transaction Class Distribution')\n",
    "plt.xticks(range(2), [\"Normal\", \"Fraud\"])\n",
    "plt.xlabel('Class')\n",
    "plt.ylabel('Frequency')\n",
    "\n",
    "labels_dist"
   ]
  },
  {
   "cell_type": "code",
   "execution_count": 21,
   "metadata": {},
   "outputs": [
    {
     "data": {
      "image/png": "[encoded data removed]",
      "text/plain": [
       "<Figure size 432x432 with 2 Axes>"
      ]
     },
     "metadata": {
      "needs_background": "light"
     },
     "output_type": "display_data"
    },
    {
     "name": "stdout",
     "output_type": "stream",
     "text": [
      "0    55042\n",
      "1       91\n",
      "Name: Class, dtype: int64\n"
     ]
    }
   ],
   "source": [
    "threshold = 0.7\n",
    "\n",
    "pred_y = [1 if e > threshold else 0 for e in error_df.reconstruction_error.values]\n",
    "\n",
    "conf_matrix = confusion_matrix(error_df.true_class, pred_y)\n",
    "\n",
    "[tn, fp], [fn, tp] = conf_matrix\n",
    "\n",
    "#reminder: tp is fraud\n",
    "plt.figure(figsize=(6, 6))\n",
    "\n",
    "sns.heatmap(conf_matrix, xticklabels=[\"Normal\", \"Fraud\"], yticklabels=[\"Normal\", \"Fraud\"], annot=True, fmt=\"d\");\n",
    "plt.title(\"Confusion matrix\")\n",
    "plt.ylabel('True class')\n",
    "plt.xlabel('Predicted class')\n",
    "plt.show()   \n",
    "\n",
    "print(labels_dist)"
   ]
  },
  {
   "cell_type": "code",
   "execution_count": 22,
   "metadata": {},
   "outputs": [
    {
     "data": {
      "image/png": "[encoded data removed]",
      "text/plain": [
       "<Figure size 432x288 with 1 Axes>"
      ]
     },
     "metadata": {
      "needs_background": "light"
     },
     "output_type": "display_data"
    }
   ],
   "source": [
    "groups = error_df.groupby('true_class')\n",
    "fig, ax = plt.subplots()\n",
    "\n",
    "for name, group in groups:\n",
    "    ax.plot(group.index, group.reconstruction_error, marker='o', ms=3.5, linestyle='',\n",
    "            label= \"Fraud\" if name == 1 else \"Normal\")\n",
    "ax.hlines(threshold, ax.get_xlim()[0], ax.get_xlim()[1], colors=\"r\", zorder=100, label='Threshold')\n",
    "ax.legend()\n",
    "plt.title(\"Reconstruction error for different classes\")\n",
    "plt.ylabel(\"Reconstruction error\")\n",
    "plt.xlabel(\"Data point index\")\n",
    "plt.show();"
   ]
  },
  {
   "cell_type": "markdown",
   "metadata": {},
   "source": [
    "##### <img src=\"metadata/precision_recall.png\" width=\"400\" height=\"400\">\n",
    "<img src=\"metadata/precision.png\" width=\"500\" height=\"300\">\n",
    "<img src=\"metadata/recall.png\" width=\"500\" height=\"300\">\n",
    "\n",
    "### use precision & recall, precision, recall graphs to decide on threshold\n",
    "\n",
    "Ideally we want both value to be high\n",
    "For frauds, we would prefer recall to have a higher value while compromising on precision\n"
   ]
  },
  {
   "cell_type": "code",
   "execution_count": 23,
   "metadata": {},
   "outputs": [
    {
     "data": {
      "image/png": "[encoded data removed]",
      "text/plain": [
       "<Figure size 432x288 with 1 Axes>"
      ]
     },
     "metadata": {
      "needs_background": "light"
     },
     "output_type": "display_data"
    },
    {
     "name": "stdout",
     "output_type": "stream",
     "text": [
      "[3.15819262e-02 3.15832061e-02 3.15834712e-02 ... 2.02581405e+01\n",
      " 4.23008900e+01 1.15643222e+02]\n"
     ]
    }
   ],
   "source": [
    "precision, recall, th = precision_recall_curve(error_df.true_class, error_df.reconstruction_error)\n",
    "plt.plot(recall, precision, 'b', label='Precision-Recall curve')\n",
    "plt.title('Recall vs Precision')\n",
    "plt.xlabel('Recall')\n",
    "plt.ylabel('Precision')\n",
    "plt.show()\n",
    "print(th)"
   ]
  },
  {
   "cell_type": "code",
   "execution_count": 24,
   "metadata": {},
   "outputs": [
    {
     "data": {
      "image/png": "[encoded data removed]",
      "text/plain": [
       "<Figure size 432x288 with 1 Axes>"
      ]
     },
     "metadata": {
      "needs_background": "light"
     },
     "output_type": "display_data"
    }
   ],
   "source": [
    "plt.plot(th, precision[1:], 'b', label='Threshold-Precision curve')\n",
    "plt.title('Precision for different threshold values')\n",
    "plt.xlabel('Threshold')\n",
    "plt.ylabel('Precision')\n",
    "plt.xlim(0, 50)\n",
    "plt.show()\n",
    "#activity_regularizer how to set value, how does value affect "
   ]
  },
  {
   "cell_type": "code",
   "execution_count": 25,
   "metadata": {},
   "outputs": [
    {
     "data": {
      "image/png": "[encoded data removed]",
      "text/plain": [
       "<Figure size 432x288 with 1 Axes>"
      ]
     },
     "metadata": {
      "needs_background": "light"
     },
     "output_type": "display_data"
    }
   ],
   "source": [
    "plt.plot(th, recall[1:], 'b', label='Threshold-Recall curve')\n",
    "plt.title('Recall for different threshold values')\n",
    "plt.xlabel('Reconstruction error')\n",
    "plt.ylabel('Recall')\n",
    "plt.xlim(0, 50)\n",
    "plt.show()\n"
   ]
  },
  {
   "cell_type": "code",
   "execution_count": null,
   "metadata": {},
   "outputs": [],
   "source": []
  }
 ],
 "metadata": {
  "kernelspec": {
   "display_name": "Python 3",
   "language": "python",
   "name": "python3"
  },
  "language_info": {
   "codemirror_mode": {
    "name": "ipython",
    "version": 3
   },
   "file_extension": ".py",
   "mimetype": "text/x-python",
   "name": "python",
   "nbconvert_exporter": "python",
   "pygments_lexer": "ipython3",
   "version": "3.7.3"
  }
 },
 "nbformat": 4,
 "nbformat_minor": 2
}
